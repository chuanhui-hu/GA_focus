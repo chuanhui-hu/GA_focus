{
 "cells": [
  {
   "cell_type": "code",
   "execution_count": 1,
   "id": "1abbf1f2",
   "metadata": {},
   "outputs": [],
   "source": [
    "import numpy as np\n",
    "import cv2\n",
    "from settings import *"
   ]
  },
  {
   "cell_type": "code",
   "execution_count": 2,
   "id": "aca9dfb0",
   "metadata": {},
   "outputs": [],
   "source": [
    "seed = 0\n",
    "np.random.seed(seed)"
   ]
  },
  {
   "cell_type": "code",
   "execution_count": 3,
   "id": "1221abba",
   "metadata": {},
   "outputs": [],
   "source": [
    "# np.random.seed(seed)\n",
    "img = np.zeros([MAP_SIZE, MAP_SIZE])\n",
    "\n",
    "xs, ys = (100, 100)\n",
    "xg, yg = (9900, 100)\n",
    "\n",
    "img = cv2.rectangle(img, [int(MAP_SIZE*0.5) - 50, 0], [int(MAP_SIZE*0.5) + 50, 3000], [255], -1)\n",
    "img = cv2.rectangle(img, [int(MAP_SIZE*0.5) - 50, 3100], [int(MAP_SIZE*0.5) + 50, 6000], [255], -1)\n",
    "# img = cv2.rectangle(img, [int(MAP_SIZE*0.5) - 50, 9500], [int(MAP_SIZE*0.5) + 50, MAP_SIZE], [255], -1)\n",
    "\n",
    "\n",
    "\n",
    "for _ in range(int(OBS_NUM)):\n",
    "    while True:\n",
    "        a = np.random.randint(OBS_A_MIN, OSP_A_MAX)\n",
    "        b = np.random.randint(OBS_B_MIN, OSP_B_MAX)\n",
    "        angle = np.random.randint(0, 360)\n",
    "        x = np.random.randint(int(MAP_SIZE * 0.1), int(MAP_SIZE * 0.9))\n",
    "        y = np.random.randint(int(MAP_SIZE * 0.1), int(MAP_SIZE * 0.6))\n",
    "        \n",
    "        if ((xs - x)/max(a, b))**2 + ((ys - y)/max(a, b))**2 > 1 or ((xg - x)/max(a, b))**2 + ((yg - y)/max(a, b))**2 > 1:\n",
    "            break\n",
    "\n",
    "    img = cv2.ellipse(img, [x, y], [a, b], angle, 0, 360, [255], -1)\n",
    "\n",
    "# for _ in range(int(OBS_NUM * 0.25)):\n",
    "#     while True:\n",
    "#         a = np.random.randint(OBS_A_MIN, OSP_A_MAX)\n",
    "#         b = np.random.randint(OBS_B_MIN, OSP_B_MAX)\n",
    "#         angle = np.random.randint(0, 360)\n",
    "#         x = np.random.randint(int(MAP_SIZE * 0.1), int(MAP_SIZE * 0.9))\n",
    "#         y = np.random.randint(int(MAP_SIZE / 2), MAP_SIZE-1)\n",
    "        \n",
    "#         if ((xs - x)/max(a, b))**2 + ((ys - y)/max(a, b))**2 > 1 or ((xg - x)/max(a, b))**2 + ((yg - y)/max(a, b))**2 > 1:\n",
    "#             break\n",
    "\n",
    "#     img = cv2.ellipse(img, [x, y], [a, b], angle, 0, 360, [255], -1)\n",
    "\n",
    "\n",
    "resized = cv2.resize(img, [1000, 1000], interpolation = cv2.INTER_AREA)\n",
    "cv2.imshow(\"resized\", resized)\n",
    "cv2.waitKey(0) \n",
    "cv2.destroyAllWindows()"
   ]
  },
  {
   "cell_type": "code",
   "execution_count": 12,
   "id": "02d7bd8b",
   "metadata": {},
   "outputs": [],
   "source": [
    "# # np.random.seed(seed)\n",
    "# img = np.zeros([MAP_SIZE, MAP_SIZE])\n",
    "\n",
    "# xs, ys = (100, 4000)\n",
    "# xg, yg = (100, 6000)\n",
    "\n",
    "# img = cv2.rectangle(img, [0, int(MAP_SIZE*0.5) - 50], [9500, int(MAP_SIZE*0.5) + 50], [255], -1)\n",
    "# img = cv2.rectangle(img, [int(MAP_SIZE*0.5) - 50, 500], [int(MAP_SIZE*0.5) + 50, 9500], [255], -1)\n",
    "\n",
    "# for _ in range(int(OBS_NUM)):\n",
    "#     while True:\n",
    "#         a = np.random.randint(OBS_A_MIN, OSP_A_MAX)\n",
    "#         b = np.random.randint(OBS_B_MIN, OSP_B_MAX)\n",
    "#         angle = np.random.randint(0, 360)\n",
    "#         x = np.random.randint(int(MAP_SIZE * 0.05), int(MAP_SIZE * 0.95))\n",
    "#         y = np.random.randint(int(MAP_SIZE * 0.05), int(MAP_SIZE * 0.95))\n",
    "        \n",
    "#         if ((xs - x)/max(a, b))**2 + ((ys - y)/max(a, b))**2 > 1 or ((xg - x)/max(a, b))**2 + ((yg - y)/max(a, b))**2 > 1:\n",
    "#             break\n",
    "\n",
    "#     img = cv2.ellipse(img, [x, y], [a, b], angle, 0, 360, [255], -1)\n",
    "\n",
    "\n",
    "# resized = cv2.resize(img, [1000, 1000], interpolation = cv2.INTER_AREA)\n",
    "# cv2.imshow(\"resized\", resized)\n",
    "# cv2.waitKey(0) \n",
    "# cv2.destroyAllWindows()"
   ]
  },
  {
   "cell_type": "code",
   "execution_count": 16,
   "id": "1717e6fa",
   "metadata": {},
   "outputs": [],
   "source": [
    "# # np.random.seed(seed)\n",
    "# img = np.zeros([MAP_SIZE, MAP_SIZE])\n",
    "\n",
    "# xs, ys = (100, 100)\n",
    "# xg, yg = (9900, 100)\n",
    "\n",
    "# for _ in range(int(OBS_NUM * 0.75)):\n",
    "#     while True:\n",
    "#         a = np.random.randint(OBS_A_MIN, OSP_A_MAX)\n",
    "#         b = np.random.randint(OBS_B_MIN, OSP_B_MAX)\n",
    "#         angle = np.random.randint(0, 360)\n",
    "#         x = np.random.randint(int(MAP_SIZE * 0.1), int(MAP_SIZE * 0.9))\n",
    "#         y = np.random.randint(0, int(MAP_SIZE / 2))\n",
    "        \n",
    "#         if ((xs - x)/max(a, b))**2 + ((ys - y)/max(a, b))**2 > 1 or ((xg - x)/max(a, b))**2 + ((yg - y)/max(a, b))**2 > 1:\n",
    "#             break\n",
    "\n",
    "#     img = cv2.ellipse(img, [x, y], [a, b], angle, 0, 360, [255], -1)\n",
    "\n",
    "# for _ in range(int(OBS_NUM * 0.25)):\n",
    "#     while True:\n",
    "#         a = np.random.randint(OBS_A_MIN, OSP_A_MAX)\n",
    "#         b = np.random.randint(OBS_B_MIN, OSP_B_MAX)\n",
    "#         angle = np.random.randint(0, 360)\n",
    "#         x = np.random.randint(0, MAP_SIZE-1)\n",
    "#         y = np.random.randint(int(MAP_SIZE / 2), MAP_SIZE-1)\n",
    "        \n",
    "#         if ((xs - x)/max(a, b))**2 + ((ys - y)/max(a, b))**2 > 1 or ((xg - x)/max(a, b))**2 + ((yg - y)/max(a, b))**2 > 1:\n",
    "#             break\n",
    "\n",
    "#     img = cv2.ellipse(img, [x, y], [a, b], angle, 0, 360, [255], -1)\n",
    "\n",
    "\n",
    "# resized = cv2.resize(img, [1000, 1000], interpolation = cv2.INTER_AREA)\n",
    "# cv2.imshow(\"resized\", resized)\n",
    "# cv2.waitKey(0) \n",
    "# cv2.destroyAllWindows()"
   ]
  },
  {
   "cell_type": "code",
   "execution_count": 10,
   "id": "87b8bc75",
   "metadata": {},
   "outputs": [],
   "source": [
    "# # np.random.seed(seed)\n",
    "# img = np.zeros([MAP_SIZE, MAP_SIZE])\n",
    "\n",
    "# xs, ys = (100, 100)\n",
    "# xg, yg = (9900, 9900)\n",
    "\n",
    "# for _ in range(OBS_NUM):\n",
    "#     while True:\n",
    "#         a = np.random.randint(OBS_A_MIN, OSP_A_MAX)\n",
    "#         b = np.random.randint(OBS_B_MIN, OSP_B_MAX)\n",
    "#         angle = np.random.randint(0, 360)\n",
    "#         x = np.random.randint(0, MAP_SIZE-1)\n",
    "#         y = np.random.randint(0, MAP_SIZE-1)\n",
    "        \n",
    "#         if ((xs - x)/max(a, b))**2 + ((ys - y)/max(a, b))**2 > 1 or ((xg - x)/max(a, b))**2 + ((yg - y)/max(a, b))**2 > 1:\n",
    "#             break\n",
    "\n",
    "#     img = cv2.ellipse(img, [x, y], [a, b], angle, 0, 360, [255], -1)\n",
    "\n",
    "\n",
    "# resized = cv2.resize(img, [1000, 1000], interpolation = cv2.INTER_AREA)\n",
    "# cv2.imshow(\"resized\", resized)\n",
    "# cv2.waitKey(0) \n",
    "# cv2.destroyAllWindows()"
   ]
  },
  {
   "cell_type": "code",
   "execution_count": 4,
   "id": "0a55e77f",
   "metadata": {},
   "outputs": [],
   "source": [
    "start_goal_img = img.copy()\n",
    "\n",
    "cv2.line(start_goal_img, (xs, ys), (xg, yg), 255, 10) \n",
    "\n",
    "resized = cv2.resize(start_goal_img, [1000, 1000], interpolation = cv2.INTER_AREA)\n",
    "cv2.imshow(\"resized\", resized)\n",
    "cv2.waitKey(0) \n",
    "cv2.destroyAllWindows()"
   ]
  },
  {
   "cell_type": "code",
   "execution_count": 5,
   "id": "813bcd20",
   "metadata": {},
   "outputs": [
    {
     "data": {
      "text/plain": [
       "True"
      ]
     },
     "execution_count": 5,
     "metadata": {},
     "output_type": "execute_result"
    }
   ],
   "source": [
    "cv2.imwrite(f\"../final_test_maps/Ellipse.png\", img)"
   ]
  },
  {
   "cell_type": "code",
   "execution_count": 5,
   "id": "fc40611d",
   "metadata": {},
   "outputs": [],
   "source": [
    "# for seed in range(MAP_NUM):\n",
    "#     np.random.seed(seed)\n",
    "#     img = np.zeros([MAP_SIZE, MAP_SIZE], np.uint8)\n",
    "\n",
    "#     xs, ys = START\n",
    "#     xg, yg = GOAL\n",
    "    \n",
    "#     for _ in range(OBS_NUM):\n",
    "#         while True:\n",
    "#             a = np.random.randint(OBS_A_MIN, OSP_A_MAX)\n",
    "#             b = np.random.randint(OBS_B_MIN, OSP_B_MAX)\n",
    "#             x = np.random.randint(0, MAP_SIZE-1)\n",
    "#             y = np.random.randint(0, MAP_SIZE-1)\n",
    "\n",
    "#             if ((xs - x)/a)**2 + ((ys - y)/b)**2 > 1 and ((xg - x)/a)**2 + ((yg - y)/b)**2 > 1:\n",
    "#                 break\n",
    "        \n",
    "#         img = cv2.ellipse(img, [x, y], [a, b], 0, 0, 360, [255], -1)\n",
    "#         cv2.imwrite(f\"../maps/{seed}.png\", img)"
   ]
  },
  {
   "cell_type": "code",
   "execution_count": 6,
   "id": "3abaf81d",
   "metadata": {},
   "outputs": [],
   "source": [
    "# img = np.zeros([MAP_SIZE, MAP_SIZE])\n",
    "# img = cv2.circle(img, (0, MAP_SIZE-1), 9850, [255], -1)\n",
    "\n",
    "# cv2.imwrite(f\"../maps/{MAP_NUM}.png\", img)"
   ]
  }
 ],
 "metadata": {
  "kernelspec": {
   "display_name": "Python 3 (ipykernel)",
   "language": "python",
   "name": "python3"
  },
  "language_info": {
   "codemirror_mode": {
    "name": "ipython",
    "version": 3
   },
   "file_extension": ".py",
   "mimetype": "text/x-python",
   "name": "python",
   "nbconvert_exporter": "python",
   "pygments_lexer": "ipython3",
   "version": "3.8.10"
  }
 },
 "nbformat": 4,
 "nbformat_minor": 5
}
